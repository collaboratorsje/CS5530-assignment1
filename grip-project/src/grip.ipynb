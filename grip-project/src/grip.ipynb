{
 "cells": [
  {
   "cell_type": "markdown",
   "metadata": {},
   "source": [
    "We design the 3 stages of reproducible workflow for this female gripstrength dataset.\n",
    "\n",
    "1. Data Input\n",
    "2. Data Processing\n",
    "3. Data Analysis"
   ]
  },
  {
   "cell_type": "markdown",
   "metadata": {},
   "source": [
    "1. Data Input\n",
    "\n",
    "I have created the folder structure for the first stage by creating raw-data, clean-data, results, src folders. The dataset is entered into a csv file. The file raw data file and associated metadata file are placed in the data-raw folder."
   ]
  },
  {
   "cell_type": "markdown",
   "metadata": {},
   "source": [
    "2. Data Processing\n",
    "\n",
    "The data in the raw data file would be cleaned in this stage and processed into a clean data form that would be saved into the data-clean folder as clean_grip_data.csv. \n",
    "\n",
    "This step could be done using some code that will create the file by selecting or filtering some rows or columns or adjusting data for example and then saving that file in the data-clean folder automatically.\n",
    "\n",
    "Here I am just designing the stages of the reproducible workflow and not analyzing the dataset."
   ]
  },
  {
   "cell_type": "code",
   "execution_count": 1,
   "metadata": {},
   "outputs": [],
   "source": [
    "\n",
    "import pandas as pd\n",
    "import os\n",
    "\n",
    "# Define the paths\n",
    "raw_data_path = '../data-raw/raw_grip_data.csv'\n",
    "cleaned_data_path = '../data-clean/cleaned_grip_data.csv'\n",
    "\n",
    "# Load the data into a pandas DataFrame\n",
    "df = pd.read_csv(raw_data_path)\n",
    "\n",
    "# Filter the DataFrame to keep only rows where Frailty is 'Y'\n",
    "df_filtered = df[df['Frailty'] == 'Y']\n",
    "\n",
    "# Save the cleaned data\n",
    "df_filtered.to_csv(cleaned_data_path, index=False)\n",
    "\n",
    "\n",
    "\n"
   ]
  },
  {
   "cell_type": "markdown",
   "metadata": {},
   "source": [
    "3. Data Analysis\n",
    "\n",
    "Here I may use methods like T-testing or correlation to analyze my clean dataset. After getting some results I can store that in a .txt file in the results folder."
   ]
  },
  {
   "cell_type": "code",
   "execution_count": 2,
   "metadata": {},
   "outputs": [
    {
     "ename": "NameError",
     "evalue": "name 'ttest_ind' is not defined",
     "output_type": "error",
     "traceback": [
      "\u001b[0;31m---------------------------------------------------------------------------\u001b[0m",
      "\u001b[0;31mNameError\u001b[0m                                 Traceback (most recent call last)",
      "\u001b[1;32m/Users/emery/Documents/GitHub/CS5530-assignment1/grip-project/src/grip.ipynb Cell 6\u001b[0m line \u001b[0;36m3\n\u001b[1;32m      <a href='vscode-notebook-cell:/Users/emery/Documents/GitHub/CS5530-assignment1/grip-project/src/grip.ipynb#X11sZmlsZQ%3D%3D?line=0'>1</a>\u001b[0m \u001b[39m# 2. Conduct a t-test on two specified columns\u001b[39;00m\n\u001b[1;32m      <a href='vscode-notebook-cell:/Users/emery/Documents/GitHub/CS5530-assignment1/grip-project/src/grip.ipynb#X11sZmlsZQ%3D%3D?line=1'>2</a>\u001b[0m \u001b[39m# Note: If you want to compare two groups rather than two columns, you'll need to adjust this part\u001b[39;00m\n\u001b[0;32m----> <a href='vscode-notebook-cell:/Users/emery/Documents/GitHub/CS5530-assignment1/grip-project/src/grip.ipynb#X11sZmlsZQ%3D%3D?line=2'>3</a>\u001b[0m t_stat, p_value \u001b[39m=\u001b[39m ttest_ind(df[\u001b[39m'\u001b[39m\u001b[39mHeight\u001b[39m\u001b[39m'\u001b[39m], df[\u001b[39m'\u001b[39m\u001b[39mWeight\u001b[39m\u001b[39m'\u001b[39m])\n\u001b[1;32m      <a href='vscode-notebook-cell:/Users/emery/Documents/GitHub/CS5530-assignment1/grip-project/src/grip.ipynb#X11sZmlsZQ%3D%3D?line=4'>5</a>\u001b[0m \u001b[39m# 3. Write the results to a .txt file\u001b[39;00m\n\u001b[1;32m      <a href='vscode-notebook-cell:/Users/emery/Documents/GitHub/CS5530-assignment1/grip-project/src/grip.ipynb#X11sZmlsZQ%3D%3D?line=5'>6</a>\u001b[0m \u001b[39mwith\u001b[39;00m \u001b[39mopen\u001b[39m(\u001b[39m'\u001b[39m\u001b[39m./results/t_test_results.txt\u001b[39m\u001b[39m'\u001b[39m, \u001b[39m'\u001b[39m\u001b[39mw\u001b[39m\u001b[39m'\u001b[39m) \u001b[39mas\u001b[39;00m file:\n",
      "\u001b[0;31mNameError\u001b[0m: name 'ttest_ind' is not defined"
     ]
    }
   ],
   "source": [
    "from scipy.stats import ttest_ind\n",
    "\n",
    "# 2. Conduct a t-test on two specified columns\n",
    "# Note: If you want to compare two groups rather than two columns, you'll need to adjust this part\n",
    "t_stat, p_value = ttest_ind(df['Height'], df['Weight'])\n",
    "\n",
    "# 3. Write the results to a .txt file\n",
    "with open('./results/t_test_results.txt', 'w') as file:\n",
    "    file.write(f\"T-statistic: {t_stat}\\n\")\n",
    "    file.write(f\"P-value: {p_value}\\n\")\n",
    "\n",
    "print(\"T-test results written to t_test_results.txt\")"
   ]
  }
 ],
 "metadata": {
  "kernelspec": {
   "display_name": "Python 3",
   "language": "python",
   "name": "python3"
  },
  "language_info": {
   "codemirror_mode": {
    "name": "ipython",
    "version": 3
   },
   "file_extension": ".py",
   "mimetype": "text/x-python",
   "name": "python",
   "nbconvert_exporter": "python",
   "pygments_lexer": "ipython3",
   "version": "3.11.5"
  },
  "orig_nbformat": 4
 },
 "nbformat": 4,
 "nbformat_minor": 2
}
